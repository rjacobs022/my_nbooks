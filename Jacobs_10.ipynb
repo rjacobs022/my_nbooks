{
 "cells": [
  {
   "cell_type": "markdown",
   "id": "c94a18b9-e84c-43c1-bcb9-7790ba5b228f",
   "metadata": {},
   "source": [
    "# CHAPTER 10 - SIMPLE LINEAR REGRESSION"
   ]
  },
  {
   "cell_type": "markdown",
   "id": "d84a6903-727b-46e5-ad64-78be604a01b5",
   "metadata": {},
   "source": [
    "## By Alicia Rene Jacobs"
   ]
  },
  {
   "cell_type": "markdown",
   "id": "bf2614c2-5e20-44f0-ad41-a6e8bcc59c22",
   "metadata": {},
   "source": [
    "## What does a Simple Linear Regression Model do?\n",
    "\n",
    "#### A simple linear regression model uses an equation to predict a dependent variable (unknow value) based on only one independent variable (known value). "
   ]
  },
  {
   "cell_type": "code",
   "execution_count": 1,
   "id": "d562bf1a-5f60-4d6d-95bb-ff40d26ce703",
   "metadata": {},
   "outputs": [],
   "source": [
    "#import modules\n",
    "import pandas as pd\n",
    "import seaborn as sns\n",
    "from sklearn.linear_model import LinearRegression\n",
    "from sklearn.model_selection import train_test_split"
   ]
  },
  {
   "cell_type": "code",
   "execution_count": 2,
   "id": "31c4600d-dd4f-47af-bbaf-b12bd006f330",
   "metadata": {},
   "outputs": [],
   "source": [
    "#load the diamonds dataset fom Seaborn\n",
    "data = sns.load_dataset('diamonds') "
   ]
  },
  {
   "cell_type": "code",
   "execution_count": 3,
   "id": "d6451bc8-2b4e-4ba3-94bd-f51a59aa1a7d",
   "metadata": {},
   "outputs": [
    {
     "data": {
      "text/html": [
       "<div>\n",
       "<style scoped>\n",
       "    .dataframe tbody tr th:only-of-type {\n",
       "        vertical-align: middle;\n",
       "    }\n",
       "\n",
       "    .dataframe tbody tr th {\n",
       "        vertical-align: top;\n",
       "    }\n",
       "\n",
       "    .dataframe thead th {\n",
       "        text-align: right;\n",
       "    }\n",
       "</style>\n",
       "<table border=\"1\" class=\"dataframe\">\n",
       "  <thead>\n",
       "    <tr style=\"text-align: right;\">\n",
       "      <th></th>\n",
       "      <th>carat</th>\n",
       "      <th>cut</th>\n",
       "      <th>color</th>\n",
       "      <th>clarity</th>\n",
       "      <th>depth</th>\n",
       "      <th>table</th>\n",
       "      <th>price</th>\n",
       "      <th>x</th>\n",
       "      <th>y</th>\n",
       "      <th>z</th>\n",
       "    </tr>\n",
       "  </thead>\n",
       "  <tbody>\n",
       "    <tr>\n",
       "      <th>0</th>\n",
       "      <td>0.23</td>\n",
       "      <td>Ideal</td>\n",
       "      <td>E</td>\n",
       "      <td>SI2</td>\n",
       "      <td>61.5</td>\n",
       "      <td>55.0</td>\n",
       "      <td>326</td>\n",
       "      <td>3.95</td>\n",
       "      <td>3.98</td>\n",
       "      <td>2.43</td>\n",
       "    </tr>\n",
       "    <tr>\n",
       "      <th>1</th>\n",
       "      <td>0.21</td>\n",
       "      <td>Premium</td>\n",
       "      <td>E</td>\n",
       "      <td>SI1</td>\n",
       "      <td>59.8</td>\n",
       "      <td>61.0</td>\n",
       "      <td>326</td>\n",
       "      <td>3.89</td>\n",
       "      <td>3.84</td>\n",
       "      <td>2.31</td>\n",
       "    </tr>\n",
       "    <tr>\n",
       "      <th>2</th>\n",
       "      <td>0.23</td>\n",
       "      <td>Good</td>\n",
       "      <td>E</td>\n",
       "      <td>VS1</td>\n",
       "      <td>56.9</td>\n",
       "      <td>65.0</td>\n",
       "      <td>327</td>\n",
       "      <td>4.05</td>\n",
       "      <td>4.07</td>\n",
       "      <td>2.31</td>\n",
       "    </tr>\n",
       "    <tr>\n",
       "      <th>3</th>\n",
       "      <td>0.29</td>\n",
       "      <td>Premium</td>\n",
       "      <td>I</td>\n",
       "      <td>VS2</td>\n",
       "      <td>62.4</td>\n",
       "      <td>58.0</td>\n",
       "      <td>334</td>\n",
       "      <td>4.20</td>\n",
       "      <td>4.23</td>\n",
       "      <td>2.63</td>\n",
       "    </tr>\n",
       "    <tr>\n",
       "      <th>4</th>\n",
       "      <td>0.31</td>\n",
       "      <td>Good</td>\n",
       "      <td>J</td>\n",
       "      <td>SI2</td>\n",
       "      <td>63.3</td>\n",
       "      <td>58.0</td>\n",
       "      <td>335</td>\n",
       "      <td>4.34</td>\n",
       "      <td>4.35</td>\n",
       "      <td>2.75</td>\n",
       "    </tr>\n",
       "  </tbody>\n",
       "</table>\n",
       "</div>"
      ],
      "text/plain": [
       "   carat      cut color clarity  depth  table  price     x     y     z\n",
       "0   0.23    Ideal     E     SI2   61.5   55.0    326  3.95  3.98  2.43\n",
       "1   0.21  Premium     E     SI1   59.8   61.0    326  3.89  3.84  2.31\n",
       "2   0.23     Good     E     VS1   56.9   65.0    327  4.05  4.07  2.31\n",
       "3   0.29  Premium     I     VS2   62.4   58.0    334  4.20  4.23  2.63\n",
       "4   0.31     Good     J     SI2   63.3   58.0    335  4.34  4.35  2.75"
      ]
     },
     "execution_count": 3,
     "metadata": {},
     "output_type": "execute_result"
    }
   ],
   "source": [
    "#display the first five rows\n",
    "data.head()"
   ]
  },
  {
   "cell_type": "markdown",
   "id": "e3a4215d-f264-4f01-b9dc-49746aa82dd0",
   "metadata": {},
   "source": [
    "## Pearson Correlation Coefficient (r-value)\n",
    "* The r-value measures the type and strength of the linear correlation between two variables\n",
    "* The r-value will always have a value between 1.0 and -1.0\n",
    "* When the r-value is between 0.01 and 1.0 there is a positive correlation\n",
    "* When the r-value is between -0.01 and -1.0 there is a negative correlation\n",
    "* When the r-value is 0.00 there is no correlation"
   ]
  },
  {
   "cell_type": "code",
   "execution_count": 4,
   "id": "9d98b36e-7e23-4b9c-a483-5177805dd8f8",
   "metadata": {},
   "outputs": [
    {
     "data": {
      "text/html": [
       "<div>\n",
       "<style scoped>\n",
       "    .dataframe tbody tr th:only-of-type {\n",
       "        vertical-align: middle;\n",
       "    }\n",
       "\n",
       "    .dataframe tbody tr th {\n",
       "        vertical-align: top;\n",
       "    }\n",
       "\n",
       "    .dataframe thead th {\n",
       "        text-align: right;\n",
       "    }\n",
       "</style>\n",
       "<table border=\"1\" class=\"dataframe\">\n",
       "  <thead>\n",
       "    <tr style=\"text-align: right;\">\n",
       "      <th></th>\n",
       "      <th>carat</th>\n",
       "      <th>depth</th>\n",
       "      <th>table</th>\n",
       "      <th>price</th>\n",
       "      <th>x</th>\n",
       "      <th>y</th>\n",
       "      <th>z</th>\n",
       "    </tr>\n",
       "  </thead>\n",
       "  <tbody>\n",
       "    <tr>\n",
       "      <th>carat</th>\n",
       "      <td>1.000000</td>\n",
       "      <td>0.028224</td>\n",
       "      <td>0.181618</td>\n",
       "      <td>0.921591</td>\n",
       "      <td>0.975094</td>\n",
       "      <td>0.951722</td>\n",
       "      <td>0.953387</td>\n",
       "    </tr>\n",
       "    <tr>\n",
       "      <th>depth</th>\n",
       "      <td>0.028224</td>\n",
       "      <td>1.000000</td>\n",
       "      <td>-0.295779</td>\n",
       "      <td>-0.010647</td>\n",
       "      <td>-0.025289</td>\n",
       "      <td>-0.029341</td>\n",
       "      <td>0.094924</td>\n",
       "    </tr>\n",
       "    <tr>\n",
       "      <th>table</th>\n",
       "      <td>0.181618</td>\n",
       "      <td>-0.295779</td>\n",
       "      <td>1.000000</td>\n",
       "      <td>0.127134</td>\n",
       "      <td>0.195344</td>\n",
       "      <td>0.183760</td>\n",
       "      <td>0.150929</td>\n",
       "    </tr>\n",
       "    <tr>\n",
       "      <th>price</th>\n",
       "      <td>0.921591</td>\n",
       "      <td>-0.010647</td>\n",
       "      <td>0.127134</td>\n",
       "      <td>1.000000</td>\n",
       "      <td>0.884435</td>\n",
       "      <td>0.865421</td>\n",
       "      <td>0.861249</td>\n",
       "    </tr>\n",
       "    <tr>\n",
       "      <th>x</th>\n",
       "      <td>0.975094</td>\n",
       "      <td>-0.025289</td>\n",
       "      <td>0.195344</td>\n",
       "      <td>0.884435</td>\n",
       "      <td>1.000000</td>\n",
       "      <td>0.974701</td>\n",
       "      <td>0.970772</td>\n",
       "    </tr>\n",
       "    <tr>\n",
       "      <th>y</th>\n",
       "      <td>0.951722</td>\n",
       "      <td>-0.029341</td>\n",
       "      <td>0.183760</td>\n",
       "      <td>0.865421</td>\n",
       "      <td>0.974701</td>\n",
       "      <td>1.000000</td>\n",
       "      <td>0.952006</td>\n",
       "    </tr>\n",
       "    <tr>\n",
       "      <th>z</th>\n",
       "      <td>0.953387</td>\n",
       "      <td>0.094924</td>\n",
       "      <td>0.150929</td>\n",
       "      <td>0.861249</td>\n",
       "      <td>0.970772</td>\n",
       "      <td>0.952006</td>\n",
       "      <td>1.000000</td>\n",
       "    </tr>\n",
       "  </tbody>\n",
       "</table>\n",
       "</div>"
      ],
      "text/plain": [
       "          carat     depth     table     price         x         y         z\n",
       "carat  1.000000  0.028224  0.181618  0.921591  0.975094  0.951722  0.953387\n",
       "depth  0.028224  1.000000 -0.295779 -0.010647 -0.025289 -0.029341  0.094924\n",
       "table  0.181618 -0.295779  1.000000  0.127134  0.195344  0.183760  0.150929\n",
       "price  0.921591 -0.010647  0.127134  1.000000  0.884435  0.865421  0.861249\n",
       "x      0.975094 -0.025289  0.195344  0.884435  1.000000  0.974701  0.970772\n",
       "y      0.951722 -0.029341  0.183760  0.865421  0.974701  1.000000  0.952006\n",
       "z      0.953387  0.094924  0.150929  0.861249  0.970772  0.952006  1.000000"
      ]
     },
     "execution_count": 4,
     "metadata": {},
     "output_type": "execute_result"
    }
   ],
   "source": [
    "#Use Pandas corr() method and display the first 7 rows\n",
    "#the head(7) was not needed to display the first 7 rows as there are 7 columns but I used it anyway\n",
    "data.corr().head(7)"
   ]
  },
  {
   "cell_type": "code",
   "execution_count": 5,
   "id": "9f374b73-ddc6-4846-9eb5-16e468992649",
   "metadata": {},
   "outputs": [
    {
     "data": {
      "text/plain": [
       "<AxesSubplot:>"
      ]
     },
     "execution_count": 5,
     "metadata": {},
     "output_type": "execute_result"
    },
    {
     "data": {
      "image/png": "[encoded data removed]",
      "text/plain": [
       "<Figure size 432x288 with 1 Axes>"
      ]
     },
     "metadata": {
      "needs_background": "light"
     },
     "output_type": "display_data"
    }
   ],
   "source": [
    "#display sorted condensed heatmap for price, with annotation valuse to 3 decimal places. remove the color bar\n",
    "sns.heatmap(data=data.corr()[['price']].sort_values(by='price', ascending=False),\n",
    "            annot=True, cmap='Greens',cbar=False, fmt=f'.3f')"
   ]
  },
  {
   "cell_type": "markdown",
   "id": "eed595b0-1f16-4728-a547-3b221158cbc9",
   "metadata": {},
   "source": [
    "## Procedure for Creating and Using a Regression Model\n",
    "\n",
    "1. Split the dataset\n",
    "2. Create model from training dataset\n",
    "3. Validate model with test dataset\n",
    "4. If the model is valid, predict data with it"
   ]
  },
  {
   "cell_type": "code",
   "execution_count": 6,
   "id": "e246a909-19ee-4fe8-b09a-699b53fc8b0b",
   "metadata": {},
   "outputs": [],
   "source": [
    "#linear regression analysis inmorts\n",
    "from sklearn.linear_model import LinearRegression\n",
    "from sklearn.model_selection import train_test_split"
   ]
  },
  {
   "cell_type": "code",
   "execution_count": 7,
   "id": "6085d151-580c-42f6-9014-8ef3c3a93223",
   "metadata": {},
   "outputs": [],
   "source": [
    "#split the data \n",
    "x_train, x_test, y_train, y_test = train_test_split(\n",
    "    data[['carat']], data[['price']], \n",
    "    test_size=0.30, random_state=20)"
   ]
  },
  {
   "cell_type": "code",
   "execution_count": 8,
   "id": "39706038-f01a-4d7c-9544-88a8e8b7493f",
   "metadata": {},
   "outputs": [
    {
     "data": {
      "text/plain": [
       "LinearRegression()"
      ]
     },
     "execution_count": 8,
     "metadata": {},
     "output_type": "execute_result"
    }
   ],
   "source": [
    "#create the model from the training dataset and print it\n",
    "model = LinearRegression()\n",
    "model"
   ]
  },
  {
   "cell_type": "code",
   "execution_count": 9,
   "id": "4bb3b536-e0f7-486b-8dea-3013547d13ee",
   "metadata": {},
   "outputs": [
    {
     "data": {
      "text/plain": [
       "LinearRegression()"
      ]
     },
     "execution_count": 9,
     "metadata": {},
     "output_type": "execute_result"
    }
   ],
   "source": [
    "#fit the training dataset to the model\n",
    "model.fit(x_train, y_train)"
   ]
  },
  {
   "cell_type": "code",
   "execution_count": 10,
   "id": "3d26cbb1-e193-416a-862b-ab25b8fbb1e1",
   "metadata": {},
   "outputs": [
    {
     "data": {
      "text/plain": [
       "0.8504107786474794"
      ]
     },
     "execution_count": 10,
     "metadata": {},
     "output_type": "execute_result"
    }
   ],
   "source": [
    "#Score the model\n",
    "model.score(x_test, y_test)"
   ]
  },
  {
   "cell_type": "code",
   "execution_count": 11,
   "id": "89b8ca67-4182-42bd-833e-ebe9d7ab4042",
   "metadata": {},
   "outputs": [
    {
     "data": {
      "text/plain": [
       "array([[9540.64191438],\n",
       "       [1940.07543252],\n",
       "       [3180.98424589],\n",
       "       ...,\n",
       "       [9618.19871522],\n",
       "       [-464.18539337],\n",
       "       [5507.68827094]])"
      ]
     },
     "execution_count": 11,
     "metadata": {},
     "output_type": "execute_result"
    }
   ],
   "source": [
    "#Use the model to predict the y values based on the x values in the\n",
    "#test dataset. Assign the results in a variable and display the variable\n",
    "y_predicted = model.predict(x_test)\n",
    "y_predicted"
   ]
  },
  {
   "cell_type": "code",
   "execution_count": 12,
   "id": "b1237898-734d-4fcc-b433-ad3165703050",
   "metadata": {},
   "outputs": [
    {
     "data": {
      "text/html": [
       "<div>\n",
       "<style scoped>\n",
       "    .dataframe tbody tr th:only-of-type {\n",
       "        vertical-align: middle;\n",
       "    }\n",
       "\n",
       "    .dataframe tbody tr th {\n",
       "        vertical-align: top;\n",
       "    }\n",
       "\n",
       "    .dataframe thead th {\n",
       "        text-align: right;\n",
       "    }\n",
       "</style>\n",
       "<table border=\"1\" class=\"dataframe\">\n",
       "  <thead>\n",
       "    <tr style=\"text-align: right;\">\n",
       "      <th></th>\n",
       "      <th>price_predicted</th>\n",
       "    </tr>\n",
       "  </thead>\n",
       "  <tbody>\n",
       "    <tr>\n",
       "      <th>0</th>\n",
       "      <td>9540.641914</td>\n",
       "    </tr>\n",
       "    <tr>\n",
       "      <th>1</th>\n",
       "      <td>1940.075433</td>\n",
       "    </tr>\n",
       "    <tr>\n",
       "      <th>2</th>\n",
       "      <td>3180.984246</td>\n",
       "    </tr>\n",
       "  </tbody>\n",
       "</table>\n",
       "</div>"
      ],
      "text/plain": [
       "   price_predicted\n",
       "0      9540.641914\n",
       "1      1940.075433\n",
       "2      3180.984246"
      ]
     },
     "execution_count": 12,
     "metadata": {},
     "output_type": "execute_result"
    }
   ],
   "source": [
    "#add the predicted values in a new DataFrame with its single column \n",
    "#named predicted_price, display the first three throws\n",
    "predicted = pd.DataFrame(y_predicted, columns=['price_predicted'])\n",
    "predicted.head(3)"
   ]
  },
  {
   "cell_type": "code",
   "execution_count": 13,
   "id": "953e4881-030d-4998-a50c-c127ea883d38",
   "metadata": {},
   "outputs": [
    {
     "data": {
      "text/html": [
       "<div>\n",
       "<style scoped>\n",
       "    .dataframe tbody tr th:only-of-type {\n",
       "        vertical-align: middle;\n",
       "    }\n",
       "\n",
       "    .dataframe tbody tr th {\n",
       "        vertical-align: top;\n",
       "    }\n",
       "\n",
       "    .dataframe thead th {\n",
       "        text-align: right;\n",
       "    }\n",
       "</style>\n",
       "<table border=\"1\" class=\"dataframe\">\n",
       "  <thead>\n",
       "    <tr style=\"text-align: right;\">\n",
       "      <th></th>\n",
       "      <th>price_predicted</th>\n",
       "      <th>price</th>\n",
       "      <th>carat</th>\n",
       "    </tr>\n",
       "  </thead>\n",
       "  <tbody>\n",
       "    <tr>\n",
       "      <th>0</th>\n",
       "      <td>9540.641914</td>\n",
       "      <td>8674</td>\n",
       "      <td>1.52</td>\n",
       "    </tr>\n",
       "    <tr>\n",
       "      <th>1</th>\n",
       "      <td>1940.075433</td>\n",
       "      <td>1637</td>\n",
       "      <td>0.54</td>\n",
       "    </tr>\n",
       "    <tr>\n",
       "      <th>2</th>\n",
       "      <td>3180.984246</td>\n",
       "      <td>2657</td>\n",
       "      <td>0.70</td>\n",
       "    </tr>\n",
       "    <tr>\n",
       "      <th>3</th>\n",
       "      <td>2327.859437</td>\n",
       "      <td>1838</td>\n",
       "      <td>0.59</td>\n",
       "    </tr>\n",
       "    <tr>\n",
       "      <th>4</th>\n",
       "      <td>4421.893059</td>\n",
       "      <td>2980</td>\n",
       "      <td>0.86</td>\n",
       "    </tr>\n",
       "  </tbody>\n",
       "</table>\n",
       "</div>"
      ],
      "text/plain": [
       "   price_predicted  price  carat\n",
       "0      9540.641914   8674   1.52\n",
       "1      1940.075433   1637   0.54\n",
       "2      3180.984246   2657   0.70\n",
       "3      2327.859437   1838   0.59\n",
       "4      4421.893059   2980   0.86"
      ]
     },
     "execution_count": 13,
     "metadata": {},
     "output_type": "execute_result"
    }
   ],
   "source": [
    "#Join the y_test and predicted data with the x_test data and save the joined data in a new DataFrame\n",
    "#display the first five rows \n",
    "combined = predicted.join([y_test.reset_index(drop=True),\n",
    "                           x_test.reset_index(drop=True)])\n",
    "combined.head()"
   ]
  },
  {
   "cell_type": "code",
   "execution_count": 14,
   "id": "86ea1581-4315-4cef-b317-41d6266bc4c8",
   "metadata": {},
   "outputs": [
    {
     "data": {
      "text/html": [
       "<div>\n",
       "<style scoped>\n",
       "    .dataframe tbody tr th:only-of-type {\n",
       "        vertical-align: middle;\n",
       "    }\n",
       "\n",
       "    .dataframe tbody tr th {\n",
       "        vertical-align: top;\n",
       "    }\n",
       "\n",
       "    .dataframe thead th {\n",
       "        text-align: right;\n",
       "    }\n",
       "</style>\n",
       "<table border=\"1\" class=\"dataframe\">\n",
       "  <thead>\n",
       "    <tr style=\"text-align: right;\">\n",
       "      <th></th>\n",
       "      <th>carat</th>\n",
       "      <th>price_type</th>\n",
       "      <th>price_value</th>\n",
       "    </tr>\n",
       "  </thead>\n",
       "  <tbody>\n",
       "    <tr>\n",
       "      <th>0</th>\n",
       "      <td>1.52</td>\n",
       "      <td>price</td>\n",
       "      <td>8674.000000</td>\n",
       "    </tr>\n",
       "    <tr>\n",
       "      <th>1</th>\n",
       "      <td>0.54</td>\n",
       "      <td>price</td>\n",
       "      <td>1637.000000</td>\n",
       "    </tr>\n",
       "    <tr>\n",
       "      <th>2</th>\n",
       "      <td>0.70</td>\n",
       "      <td>price</td>\n",
       "      <td>2657.000000</td>\n",
       "    </tr>\n",
       "    <tr>\n",
       "      <th>3</th>\n",
       "      <td>0.59</td>\n",
       "      <td>price</td>\n",
       "      <td>1838.000000</td>\n",
       "    </tr>\n",
       "    <tr>\n",
       "      <th>4</th>\n",
       "      <td>0.86</td>\n",
       "      <td>price</td>\n",
       "      <td>2980.000000</td>\n",
       "    </tr>\n",
       "    <tr>\n",
       "      <th>...</th>\n",
       "      <td>...</td>\n",
       "      <td>...</td>\n",
       "      <td>...</td>\n",
       "    </tr>\n",
       "    <tr>\n",
       "      <th>32359</th>\n",
       "      <td>0.31</td>\n",
       "      <td>price_predicted</td>\n",
       "      <td>156.269013</td>\n",
       "    </tr>\n",
       "    <tr>\n",
       "      <th>32360</th>\n",
       "      <td>1.01</td>\n",
       "      <td>price_predicted</td>\n",
       "      <td>5585.245072</td>\n",
       "    </tr>\n",
       "    <tr>\n",
       "      <th>32361</th>\n",
       "      <td>1.53</td>\n",
       "      <td>price_predicted</td>\n",
       "      <td>9618.198715</td>\n",
       "    </tr>\n",
       "    <tr>\n",
       "      <th>32362</th>\n",
       "      <td>0.23</td>\n",
       "      <td>price_predicted</td>\n",
       "      <td>-464.185393</td>\n",
       "    </tr>\n",
       "    <tr>\n",
       "      <th>32363</th>\n",
       "      <td>1.00</td>\n",
       "      <td>price_predicted</td>\n",
       "      <td>5507.688271</td>\n",
       "    </tr>\n",
       "  </tbody>\n",
       "</table>\n",
       "<p>32364 rows × 3 columns</p>\n",
       "</div>"
      ],
      "text/plain": [
       "       carat       price_type  price_value\n",
       "0       1.52            price  8674.000000\n",
       "1       0.54            price  1637.000000\n",
       "2       0.70            price  2657.000000\n",
       "3       0.59            price  1838.000000\n",
       "4       0.86            price  2980.000000\n",
       "...      ...              ...          ...\n",
       "32359   0.31  price_predicted   156.269013\n",
       "32360   1.01  price_predicted  5585.245072\n",
       "32361   1.53  price_predicted  9618.198715\n",
       "32362   0.23  price_predicted  -464.185393\n",
       "32363   1.00  price_predicted  5507.688271\n",
       "\n",
       "[32364 rows x 3 columns]"
      ]
     },
     "execution_count": 14,
     "metadata": {},
     "output_type": "execute_result"
    }
   ],
   "source": [
    "# melt price and price_predicted columns into a single column\n",
    "melted = pd.melt(combined, id_vars=['carat'], \n",
    "                 value_vars=['price','price_predicted'], \n",
    "                 var_name='price_type', value_name='price_value')\n",
    "\n",
    "melted"
   ]
  },
  {
   "cell_type": "code",
   "execution_count": 15,
   "id": "8cfaf451-3bd6-4b4f-8bc6-23d488b2406a",
   "metadata": {},
   "outputs": [
    {
     "data": {
      "text/plain": [
       "<AxesSubplot:xlabel='carat', ylabel='price_value'>"
      ]
     },
     "execution_count": 15,
     "metadata": {},
     "output_type": "execute_result"
    },
    {
     "data": {
      "image/png": "[encoded data removed]",
      "text/plain": [
       "<Figure size 432x288 with 1 Axes>"
      ]
     },
     "metadata": {
      "needs_background": "light"
     },
     "output_type": "display_data"
    }
   ],
   "source": [
    "#Use a Seaborn line plot without a confidence interval to plot the predicted data\n",
    "sns.lineplot(data=melted, x='carat', y='price_value', \n",
    "            hue='price_type', ci=None)"
   ]
  },
  {
   "cell_type": "markdown",
   "id": "6d8b5be5-2eee-4718-ba6e-960c3776703f",
   "metadata": {},
   "source": [
    "## Regression line equation is y = mx + b, where...\n",
    "* y is the **dependent** variable\n",
    "* m is the **slope** of the line\n",
    "* x is the **independent** variable\n",
    "* b is the **Y-intercept**"
   ]
  },
  {
   "cell_type": "code",
   "execution_count": 16,
   "id": "a174014e-e0d3-42d5-9bb0-10f135213f93",
   "metadata": {},
   "outputs": [],
   "source": [
    "X = data.carat.values.reshape(-1,1)\n",
    "y = data.price"
   ]
  },
  {
   "cell_type": "code",
   "execution_count": 17,
   "id": "4eeb0c57-e311-4b55-b779-512a40817789",
   "metadata": {},
   "outputs": [],
   "source": [
    "lr = LinearRegression()\n",
    "predicted = lr.fit(X,y)"
   ]
  },
  {
   "cell_type": "code",
   "execution_count": 18,
   "id": "9eb9c438-e75a-474e-8618-69be22c76aab",
   "metadata": {},
   "outputs": [
    {
     "name": "stdout",
     "output_type": "stream",
     "text": [
      "The slope is [7756.42561797] and the y-intercept is -2256.3605800454457\n"
     ]
    }
   ],
   "source": [
    "m = predicted.coef_\n",
    "b = predicted.intercept_\n",
    "print(f'The slope is {m} and the y-intercept is {b}')"
   ]
  },
  {
   "cell_type": "code",
   "execution_count": 19,
   "id": "cd839950-03a4-4420-9a57-59257bfa32a5",
   "metadata": {},
   "outputs": [
    {
     "name": "stdout",
     "output_type": "stream",
     "text": [
      "Regression line equation is y = [7756.42561797]x + -2256.3605800454457\n"
     ]
    }
   ],
   "source": [
    "print(f'Regression line equation is y = {m}x + {b}')"
   ]
  },
  {
   "cell_type": "code",
   "execution_count": 20,
   "id": "42861e8a-03ba-4cbd-8f2c-51d5a81f1021",
   "metadata": {},
   "outputs": [
    {
     "name": "stdout",
     "output_type": "stream",
     "text": [
      "The predicted price for a 0.70 carat diamond is $3,173.14\n"
     ]
    }
   ],
   "source": [
    "predict1 = (m * 0.70) + b\n",
    "print(f'The predicted price for a 0.70 carat diamond is ${predict1[0]:,.2f}')"
   ]
  },
  {
   "cell_type": "code",
   "execution_count": 21,
   "id": "4942b762-06b7-4599-8b98-8a0e3f356aff",
   "metadata": {},
   "outputs": [
    {
     "name": "stdout",
     "output_type": "stream",
     "text": [
      "The predicted price for a 0.54 carat diamond is $1,932.11\n"
     ]
    }
   ],
   "source": [
    "predict2 = (m * 0.54) + b\n",
    "print(f'The predicted price for a 0.54 carat diamond is ${predict2[0]:,.2f}')"
   ]
  },
  {
   "cell_type": "code",
   "execution_count": 22,
   "id": "0e0af31b-5a42-4a7d-b633-a1e26bd05104",
   "metadata": {},
   "outputs": [
    {
     "data": {
      "text/html": [
       "<div>\n",
       "<style scoped>\n",
       "    .dataframe tbody tr th:only-of-type {\n",
       "        vertical-align: middle;\n",
       "    }\n",
       "\n",
       "    .dataframe tbody tr th {\n",
       "        vertical-align: top;\n",
       "    }\n",
       "\n",
       "    .dataframe thead th {\n",
       "        text-align: right;\n",
       "    }\n",
       "</style>\n",
       "<table border=\"1\" class=\"dataframe\">\n",
       "  <thead>\n",
       "    <tr style=\"text-align: right;\">\n",
       "      <th></th>\n",
       "      <th>carat</th>\n",
       "      <th>price_type</th>\n",
       "      <th>price_value</th>\n",
       "    </tr>\n",
       "  </thead>\n",
       "  <tbody>\n",
       "    <tr>\n",
       "      <th>2</th>\n",
       "      <td>0.7</td>\n",
       "      <td>price</td>\n",
       "      <td>2657.000000</td>\n",
       "    </tr>\n",
       "    <tr>\n",
       "      <th>17</th>\n",
       "      <td>0.7</td>\n",
       "      <td>price</td>\n",
       "      <td>2268.000000</td>\n",
       "    </tr>\n",
       "    <tr>\n",
       "      <th>30</th>\n",
       "      <td>0.7</td>\n",
       "      <td>price</td>\n",
       "      <td>2415.000000</td>\n",
       "    </tr>\n",
       "    <tr>\n",
       "      <th>31</th>\n",
       "      <td>0.7</td>\n",
       "      <td>price</td>\n",
       "      <td>2048.000000</td>\n",
       "    </tr>\n",
       "    <tr>\n",
       "      <th>74</th>\n",
       "      <td>0.7</td>\n",
       "      <td>price</td>\n",
       "      <td>2478.000000</td>\n",
       "    </tr>\n",
       "    <tr>\n",
       "      <th>...</th>\n",
       "      <td>...</td>\n",
       "      <td>...</td>\n",
       "      <td>...</td>\n",
       "    </tr>\n",
       "    <tr>\n",
       "      <th>32266</th>\n",
       "      <td>0.7</td>\n",
       "      <td>price_predicted</td>\n",
       "      <td>3180.984246</td>\n",
       "    </tr>\n",
       "    <tr>\n",
       "      <th>32267</th>\n",
       "      <td>0.7</td>\n",
       "      <td>price_predicted</td>\n",
       "      <td>3180.984246</td>\n",
       "    </tr>\n",
       "    <tr>\n",
       "      <th>32320</th>\n",
       "      <td>0.7</td>\n",
       "      <td>price_predicted</td>\n",
       "      <td>3180.984246</td>\n",
       "    </tr>\n",
       "    <tr>\n",
       "      <th>32322</th>\n",
       "      <td>0.7</td>\n",
       "      <td>price_predicted</td>\n",
       "      <td>3180.984246</td>\n",
       "    </tr>\n",
       "    <tr>\n",
       "      <th>32334</th>\n",
       "      <td>0.7</td>\n",
       "      <td>price_predicted</td>\n",
       "      <td>3180.984246</td>\n",
       "    </tr>\n",
       "  </tbody>\n",
       "</table>\n",
       "<p>1174 rows × 3 columns</p>\n",
       "</div>"
      ],
      "text/plain": [
       "       carat       price_type  price_value\n",
       "2        0.7            price  2657.000000\n",
       "17       0.7            price  2268.000000\n",
       "30       0.7            price  2415.000000\n",
       "31       0.7            price  2048.000000\n",
       "74       0.7            price  2478.000000\n",
       "...      ...              ...          ...\n",
       "32266    0.7  price_predicted  3180.984246\n",
       "32267    0.7  price_predicted  3180.984246\n",
       "32320    0.7  price_predicted  3180.984246\n",
       "32322    0.7  price_predicted  3180.984246\n",
       "32334    0.7  price_predicted  3180.984246\n",
       "\n",
       "[1174 rows x 3 columns]"
      ]
     },
     "execution_count": 22,
     "metadata": {},
     "output_type": "execute_result"
    }
   ],
   "source": [
    "melted.query('carat == 0.70')"
   ]
  },
  {
   "cell_type": "code",
   "execution_count": 23,
   "id": "22f198fd-ab3a-41eb-8e20-ac46de5f3cd4",
   "metadata": {},
   "outputs": [
    {
     "data": {
      "text/html": [
       "<div>\n",
       "<style scoped>\n",
       "    .dataframe tbody tr th:only-of-type {\n",
       "        vertical-align: middle;\n",
       "    }\n",
       "\n",
       "    .dataframe tbody tr th {\n",
       "        vertical-align: top;\n",
       "    }\n",
       "\n",
       "    .dataframe thead th {\n",
       "        text-align: right;\n",
       "    }\n",
       "</style>\n",
       "<table border=\"1\" class=\"dataframe\">\n",
       "  <thead>\n",
       "    <tr style=\"text-align: right;\">\n",
       "      <th></th>\n",
       "      <th>carat</th>\n",
       "      <th>price_type</th>\n",
       "      <th>price_value</th>\n",
       "    </tr>\n",
       "  </thead>\n",
       "  <tbody>\n",
       "    <tr>\n",
       "      <th>1</th>\n",
       "      <td>0.54</td>\n",
       "      <td>price</td>\n",
       "      <td>1637.000000</td>\n",
       "    </tr>\n",
       "    <tr>\n",
       "      <th>121</th>\n",
       "      <td>0.54</td>\n",
       "      <td>price</td>\n",
       "      <td>2671.000000</td>\n",
       "    </tr>\n",
       "    <tr>\n",
       "      <th>160</th>\n",
       "      <td>0.54</td>\n",
       "      <td>price</td>\n",
       "      <td>1944.000000</td>\n",
       "    </tr>\n",
       "    <tr>\n",
       "      <th>181</th>\n",
       "      <td>0.54</td>\n",
       "      <td>price</td>\n",
       "      <td>1763.000000</td>\n",
       "    </tr>\n",
       "    <tr>\n",
       "      <th>242</th>\n",
       "      <td>0.54</td>\n",
       "      <td>price</td>\n",
       "      <td>2776.000000</td>\n",
       "    </tr>\n",
       "    <tr>\n",
       "      <th>...</th>\n",
       "      <td>...</td>\n",
       "      <td>...</td>\n",
       "      <td>...</td>\n",
       "    </tr>\n",
       "    <tr>\n",
       "      <th>31776</th>\n",
       "      <td>0.54</td>\n",
       "      <td>price_predicted</td>\n",
       "      <td>1940.075433</td>\n",
       "    </tr>\n",
       "    <tr>\n",
       "      <th>31800</th>\n",
       "      <td>0.54</td>\n",
       "      <td>price_predicted</td>\n",
       "      <td>1940.075433</td>\n",
       "    </tr>\n",
       "    <tr>\n",
       "      <th>31902</th>\n",
       "      <td>0.54</td>\n",
       "      <td>price_predicted</td>\n",
       "      <td>1940.075433</td>\n",
       "    </tr>\n",
       "    <tr>\n",
       "      <th>32309</th>\n",
       "      <td>0.54</td>\n",
       "      <td>price_predicted</td>\n",
       "      <td>1940.075433</td>\n",
       "    </tr>\n",
       "    <tr>\n",
       "      <th>32328</th>\n",
       "      <td>0.54</td>\n",
       "      <td>price_predicted</td>\n",
       "      <td>1940.075433</td>\n",
       "    </tr>\n",
       "  </tbody>\n",
       "</table>\n",
       "<p>392 rows × 3 columns</p>\n",
       "</div>"
      ],
      "text/plain": [
       "       carat       price_type  price_value\n",
       "1       0.54            price  1637.000000\n",
       "121     0.54            price  2671.000000\n",
       "160     0.54            price  1944.000000\n",
       "181     0.54            price  1763.000000\n",
       "242     0.54            price  2776.000000\n",
       "...      ...              ...          ...\n",
       "31776   0.54  price_predicted  1940.075433\n",
       "31800   0.54  price_predicted  1940.075433\n",
       "31902   0.54  price_predicted  1940.075433\n",
       "32309   0.54  price_predicted  1940.075433\n",
       "32328   0.54  price_predicted  1940.075433\n",
       "\n",
       "[392 rows x 3 columns]"
      ]
     },
     "execution_count": 23,
     "metadata": {},
     "output_type": "execute_result"
    }
   ],
   "source": [
    "melted.query('carat == 0.54')"
   ]
  },
  {
   "cell_type": "markdown",
   "id": "63cd660a-9c9c-4164-b59c-6923b9f5c949",
   "metadata": {},
   "source": [
    "### Yes the results are close. The .7 carret predicted price from step 18 was 3180.99 and the 0.54 was 1940.08"
   ]
  },
  {
   "cell_type": "code",
   "execution_count": null,
   "id": "c9be1578-7be1-46b5-a162-c7ee040a7c6b",
   "metadata": {},
   "outputs": [],
   "source": []
  }
 ],
 "metadata": {
  "kernelspec": {
   "display_name": "Python 3 (ipykernel)",
   "language": "python",
   "name": "python3"
  },
  "language_info": {
   "codemirror_mode": {
    "name": "ipython",
    "version": 3
   },
   "file_extension": ".py",
   "mimetype": "text/x-python",
   "name": "python",
   "nbconvert_exporter": "python",
   "pygments_lexer": "ipython3",
   "version": "3.9.12"
  }
 },
 "nbformat": 4,
 "nbformat_minor": 5
}
